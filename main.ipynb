{
 "cells": [
  {
   "cell_type": "code",
   "execution_count": 1,
   "metadata": {},
   "outputs": [],
   "source": [
    "import pandas as pd\n",
    "import numpy as np"
   ]
  },
  {
   "attachments": {},
   "cell_type": "markdown",
   "metadata": {},
   "source": [
    "<h2>\n",
    "Reading and processing data\n",
    "</h2>"
   ]
  },
  {
   "cell_type": "code",
   "execution_count": 2,
   "metadata": {},
   "outputs": [],
   "source": [
    "slab = pd.read_csv('data/slab.csv', sep=\";\")\n",
    "defect = pd.read_excel('data/defect.xlsx')\n",
    "heat = pd.read_excel('data/heat.xlsx')\n",
    "process = pd.read_csv('data/process.csv', sep=\";\")"
   ]
  },
  {
   "cell_type": "code",
   "execution_count": 3,
   "metadata": {},
   "outputs": [],
   "source": [
    "LF = pd.read_excel('data/LF.xlsx')\n",
    "EAF = pd.read_excel('data/eaf.xlsx')"
   ]
  },
  {
   "cell_type": "code",
   "execution_count": 4,
   "metadata": {},
   "outputs": [],
   "source": [
    "CCM = pd.read_excel('data/ccm.xlsx')"
   ]
  },
  {
   "cell_type": "code",
   "execution_count": 5,
   "metadata": {},
   "outputs": [],
   "source": [
    "eaf_ladels = pd.DataFrame(EAF[\"LADEL\"].unique())\n",
    "lf_ladels = pd.DataFrame(LF[\"LADEL\"].unique())\n",
    "ccm_ladels = pd.DataFrame(CCM[\"LADEL\"].unique())\n",
    "ladels = pd.factorize(pd.concat([eaf_ladels, lf_ladels, ccm_ladels])[0].unique(), na_sentinel=None)\n",
    "ladels_replacement = {}\n",
    "for i in range(len(ladels[0])): ladels_replacement[ladels[1][i]] = ladels[0][i]\n",
    "\n",
    "tundish = pd.factorize(CCM[\"TUNDISH\"].unique())\n",
    "tundish_replacements = {}\n",
    "for i in range(len(tundish[0])): tundish_replacements[tundish[1][i]] = tundish[0][i]\n",
    "\n",
    "shells = pd.factorize(EAF[\"SHELL\"].unique())\n",
    "shells_replacements = {}\n",
    "for i in range(len(shells[0])): shells_replacements[shells[1][i]] = shells[0][i]\n",
    "\n",
    "eaf_itmdfs = pd.DataFrame(EAF[\"ITMDF_COD_ITM_ITMDF\"].unique())\n",
    "lf_itmdfs = pd.DataFrame(LF[\"ITMDF_COD_ITM_ITMDF\"].unique())\n",
    "ccm_itmdfs = pd.DataFrame(CCM[\"ITMDF_COD_ITM_ITMDF\"].unique())\n",
    "itmdfs = pd.factorize(pd.concat([eaf_itmdfs, lf_itmdfs, ccm_itmdfs])[0].unique(), na_sentinel=None)\n",
    "itmdfs_replacement = {}\n",
    "for i in range(len(itmdfs[0])): itmdfs_replacement[(itmdfs[1][i])] = itmdfs[0][i]\n",
    "\n",
    "# replacing descriptive data with numric data\n",
    "LF[\"LADEL\"].replace(ladels_replacement, inplace=True)\n",
    "EAF[\"LADEL\"].replace(ladels_replacement, inplace=True)\n",
    "CCM[\"LADEL\"].replace(ladels_replacement, inplace=True)\n",
    "\n",
    "CCM[\"TUNDISH\"].replace(tundish_replacements, inplace=True)\n",
    "EAF[\"SHELL\"].replace(shells_replacements, inplace=True)\n",
    "\n",
    "EAF[\"ITMDF_COD_ITM_ITMDF\"].replace(itmdfs_replacement, inplace=True)\n",
    "LF[\"ITMDF_COD_ITM_ITMDF\"].replace(itmdfs_replacement, inplace=True)\n",
    "CCM[\"ITMDF_COD_ITM_ITMDF\"].replace(itmdfs_replacement, inplace=True)"
   ]
  },
  {
   "cell_type": "code",
   "execution_count": 6,
   "metadata": {},
   "outputs": [],
   "source": [
    "# removing VAL_ITM_A_PRITM (too many nans)\n",
    "CCM = CCM.drop('VAL_ITM_A_PRITM', axis=1)\n",
    "EAF = EAF.drop('VAL_ITM_A_PRITM', axis=1)\n",
    "LF = LF.drop('VAL_ITM_A_PRITM', axis=1)"
   ]
  },
  {
   "cell_type": "code",
   "execution_count": 7,
   "metadata": {},
   "outputs": [],
   "source": [
    "# from sklearn.experimental import enable_iterative_imputer\n",
    "# from sklearn.impute import IterativeImputer\n",
    "\n",
    "# imp = IterativeImputer(max_iter=500, random_state=0)\n",
    "# imp.fit(np.array(CCM))\n",
    "# CCM = np.round(imp.transform(np.array(CCM)), 0)\n",
    "\n",
    "# imp.fit(np.array(EAF))\n",
    "# EAF = np.round(imp.transform(np.array(EAF)), 0)\n",
    "\n",
    "# imp.fit(np.array(LF))\n",
    "# LF = np.round(imp.transform(np.array(LF)), 0)"
   ]
  },
  {
   "cell_type": "code",
   "execution_count": 8,
   "metadata": {},
   "outputs": [],
   "source": [
    "merge1 = pd.merge(slab, defect, how=\"outer\", left_on='PRODUCT_ID', right_on='PRODT_PRODUCT_ID')\n",
    "merge1 = pd.merge(merge1, heat, how=\"outer\", left_on='PRODT_PRODUCT_ID_x', right_on='PRODUCT_ID')\n",
    "\n",
    "ccm_process = pd.merge(process, CCM, how=\"outer\", left_on='PROCESS_RESULT_ID', right_on='PCRSL_PROCESS_RESULT_ID')\n",
    "lf_process = pd.merge(process, LF, how=\"outer\", left_on='PROCESS_RESULT_ID', right_on='PCRSL_PROCESS_RESULT_ID')\n",
    "eaf_process = pd.merge(process, EAF, how=\"outer\", left_on='PROCESS_RESULT_ID', right_on='PCRSL_PROCESS_RESULT_ID')\n",
    "processes = pd.concat([ccm_process, lf_process, eaf_process])"
   ]
  },
  {
   "cell_type": "code",
   "execution_count": 14,
   "metadata": {},
   "outputs": [
    {
     "ename": "KeyError",
     "evalue": "\"['PROCESS_RESULT_ID'] not found in axis\"",
     "output_type": "error",
     "traceback": [
      "\u001b[1;31m---------------------------------------------------------------------------\u001b[0m",
      "\u001b[1;31mKeyError\u001b[0m                                  Traceback (most recent call last)",
      "Cell \u001b[1;32mIn[14], line 1\u001b[0m\n\u001b[1;32m----> 1\u001b[0m processes \u001b[39m=\u001b[39m processes\u001b[39m.\u001b[39;49mdrop(\u001b[39m'\u001b[39;49m\u001b[39mPROCESS_RESULT_ID\u001b[39;49m\u001b[39m'\u001b[39;49m, axis\u001b[39m=\u001b[39;49m\u001b[39m1\u001b[39;49m)\n\u001b[0;32m      2\u001b[0m \u001b[39mprint\u001b[39m(\u001b[39mlen\u001b[39m(processes))\n",
      "File \u001b[1;32me:\\Users\\AbbasMn\\anaconda3\\lib\\site-packages\\pandas\\util\\_decorators.py:311\u001b[0m, in \u001b[0;36mdeprecate_nonkeyword_arguments.<locals>.decorate.<locals>.wrapper\u001b[1;34m(*args, **kwargs)\u001b[0m\n\u001b[0;32m    305\u001b[0m \u001b[39mif\u001b[39;00m \u001b[39mlen\u001b[39m(args) \u001b[39m>\u001b[39m num_allow_args:\n\u001b[0;32m    306\u001b[0m     warnings\u001b[39m.\u001b[39mwarn(\n\u001b[0;32m    307\u001b[0m         msg\u001b[39m.\u001b[39mformat(arguments\u001b[39m=\u001b[39marguments),\n\u001b[0;32m    308\u001b[0m         \u001b[39mFutureWarning\u001b[39;00m,\n\u001b[0;32m    309\u001b[0m         stacklevel\u001b[39m=\u001b[39mstacklevel,\n\u001b[0;32m    310\u001b[0m     )\n\u001b[1;32m--> 311\u001b[0m \u001b[39mreturn\u001b[39;00m func(\u001b[39m*\u001b[39margs, \u001b[39m*\u001b[39m\u001b[39m*\u001b[39mkwargs)\n",
      "File \u001b[1;32me:\\Users\\AbbasMn\\anaconda3\\lib\\site-packages\\pandas\\core\\frame.py:4954\u001b[0m, in \u001b[0;36mDataFrame.drop\u001b[1;34m(self, labels, axis, index, columns, level, inplace, errors)\u001b[0m\n\u001b[0;32m   4806\u001b[0m \u001b[39m@deprecate_nonkeyword_arguments\u001b[39m(version\u001b[39m=\u001b[39m\u001b[39mNone\u001b[39;00m, allowed_args\u001b[39m=\u001b[39m[\u001b[39m\"\u001b[39m\u001b[39mself\u001b[39m\u001b[39m\"\u001b[39m, \u001b[39m\"\u001b[39m\u001b[39mlabels\u001b[39m\u001b[39m\"\u001b[39m])\n\u001b[0;32m   4807\u001b[0m \u001b[39mdef\u001b[39;00m \u001b[39mdrop\u001b[39m(\n\u001b[0;32m   4808\u001b[0m     \u001b[39mself\u001b[39m,\n\u001b[1;32m   (...)\u001b[0m\n\u001b[0;32m   4815\u001b[0m     errors: \u001b[39mstr\u001b[39m \u001b[39m=\u001b[39m \u001b[39m\"\u001b[39m\u001b[39mraise\u001b[39m\u001b[39m\"\u001b[39m,\n\u001b[0;32m   4816\u001b[0m ):\n\u001b[0;32m   4817\u001b[0m     \u001b[39m\"\"\"\u001b[39;00m\n\u001b[0;32m   4818\u001b[0m \u001b[39m    Drop specified labels from rows or columns.\u001b[39;00m\n\u001b[0;32m   4819\u001b[0m \n\u001b[1;32m   (...)\u001b[0m\n\u001b[0;32m   4952\u001b[0m \u001b[39m            weight  1.0     0.8\u001b[39;00m\n\u001b[0;32m   4953\u001b[0m \u001b[39m    \"\"\"\u001b[39;00m\n\u001b[1;32m-> 4954\u001b[0m     \u001b[39mreturn\u001b[39;00m \u001b[39msuper\u001b[39;49m()\u001b[39m.\u001b[39;49mdrop(\n\u001b[0;32m   4955\u001b[0m         labels\u001b[39m=\u001b[39;49mlabels,\n\u001b[0;32m   4956\u001b[0m         axis\u001b[39m=\u001b[39;49maxis,\n\u001b[0;32m   4957\u001b[0m         index\u001b[39m=\u001b[39;49mindex,\n\u001b[0;32m   4958\u001b[0m         columns\u001b[39m=\u001b[39;49mcolumns,\n\u001b[0;32m   4959\u001b[0m         level\u001b[39m=\u001b[39;49mlevel,\n\u001b[0;32m   4960\u001b[0m         inplace\u001b[39m=\u001b[39;49minplace,\n\u001b[0;32m   4961\u001b[0m         errors\u001b[39m=\u001b[39;49merrors,\n\u001b[0;32m   4962\u001b[0m     )\n",
      "File \u001b[1;32me:\\Users\\AbbasMn\\anaconda3\\lib\\site-packages\\pandas\\core\\generic.py:4267\u001b[0m, in \u001b[0;36mNDFrame.drop\u001b[1;34m(self, labels, axis, index, columns, level, inplace, errors)\u001b[0m\n\u001b[0;32m   4265\u001b[0m \u001b[39mfor\u001b[39;00m axis, labels \u001b[39min\u001b[39;00m axes\u001b[39m.\u001b[39mitems():\n\u001b[0;32m   4266\u001b[0m     \u001b[39mif\u001b[39;00m labels \u001b[39mis\u001b[39;00m \u001b[39mnot\u001b[39;00m \u001b[39mNone\u001b[39;00m:\n\u001b[1;32m-> 4267\u001b[0m         obj \u001b[39m=\u001b[39m obj\u001b[39m.\u001b[39;49m_drop_axis(labels, axis, level\u001b[39m=\u001b[39;49mlevel, errors\u001b[39m=\u001b[39;49merrors)\n\u001b[0;32m   4269\u001b[0m \u001b[39mif\u001b[39;00m inplace:\n\u001b[0;32m   4270\u001b[0m     \u001b[39mself\u001b[39m\u001b[39m.\u001b[39m_update_inplace(obj)\n",
      "File \u001b[1;32me:\\Users\\AbbasMn\\anaconda3\\lib\\site-packages\\pandas\\core\\generic.py:4311\u001b[0m, in \u001b[0;36mNDFrame._drop_axis\u001b[1;34m(self, labels, axis, level, errors, consolidate, only_slice)\u001b[0m\n\u001b[0;32m   4309\u001b[0m         new_axis \u001b[39m=\u001b[39m axis\u001b[39m.\u001b[39mdrop(labels, level\u001b[39m=\u001b[39mlevel, errors\u001b[39m=\u001b[39merrors)\n\u001b[0;32m   4310\u001b[0m     \u001b[39melse\u001b[39;00m:\n\u001b[1;32m-> 4311\u001b[0m         new_axis \u001b[39m=\u001b[39m axis\u001b[39m.\u001b[39;49mdrop(labels, errors\u001b[39m=\u001b[39;49merrors)\n\u001b[0;32m   4312\u001b[0m     indexer \u001b[39m=\u001b[39m axis\u001b[39m.\u001b[39mget_indexer(new_axis)\n\u001b[0;32m   4314\u001b[0m \u001b[39m# Case for non-unique axis\u001b[39;00m\n\u001b[0;32m   4315\u001b[0m \u001b[39melse\u001b[39;00m:\n",
      "File \u001b[1;32me:\\Users\\AbbasMn\\anaconda3\\lib\\site-packages\\pandas\\core\\indexes\\base.py:6644\u001b[0m, in \u001b[0;36mIndex.drop\u001b[1;34m(self, labels, errors)\u001b[0m\n\u001b[0;32m   6642\u001b[0m \u001b[39mif\u001b[39;00m mask\u001b[39m.\u001b[39many():\n\u001b[0;32m   6643\u001b[0m     \u001b[39mif\u001b[39;00m errors \u001b[39m!=\u001b[39m \u001b[39m\"\u001b[39m\u001b[39mignore\u001b[39m\u001b[39m\"\u001b[39m:\n\u001b[1;32m-> 6644\u001b[0m         \u001b[39mraise\u001b[39;00m \u001b[39mKeyError\u001b[39;00m(\u001b[39mf\u001b[39m\u001b[39m\"\u001b[39m\u001b[39m{\u001b[39;00m\u001b[39mlist\u001b[39m(labels[mask])\u001b[39m}\u001b[39;00m\u001b[39m not found in axis\u001b[39m\u001b[39m\"\u001b[39m)\n\u001b[0;32m   6645\u001b[0m     indexer \u001b[39m=\u001b[39m indexer[\u001b[39m~\u001b[39mmask]\n\u001b[0;32m   6646\u001b[0m \u001b[39mreturn\u001b[39;00m \u001b[39mself\u001b[39m\u001b[39m.\u001b[39mdelete(indexer)\n",
      "\u001b[1;31mKeyError\u001b[0m: \"['PROCESS_RESULT_ID'] not found in axis\""
     ]
    }
   ],
   "source": [
    "processes = processes.drop('PROCESS_RESULT_ID', axis=1)\n"
   ]
  },
  {
   "cell_type": "code",
   "execution_count": 15,
   "metadata": {},
   "outputs": [
    {
     "name": "stdout",
     "output_type": "stream",
     "text": [
      "4514878\n"
     ]
    }
   ],
   "source": [
    "print(len(processes))"
   ]
  },
  {
   "cell_type": "code",
   "execution_count": 10,
   "metadata": {},
   "outputs": [],
   "source": [
    "dataset = pd.merge(merge1, processes, how=\"outer\", left_on='PRODT_PRODUCT_ID_x', right_on='PRODT_PRODUCT_ID')"
   ]
  },
  {
   "cell_type": "code",
   "execution_count": null,
   "metadata": {},
   "outputs": [],
   "source": []
  }
 ],
 "metadata": {
  "kernelspec": {
   "display_name": "base",
   "language": "python",
   "name": "python3"
  },
  "language_info": {
   "codemirror_mode": {
    "name": "ipython",
    "version": 3
   },
   "file_extension": ".py",
   "mimetype": "text/x-python",
   "name": "python",
   "nbconvert_exporter": "python",
   "pygments_lexer": "ipython3",
   "version": "3.9.15"
  },
  "orig_nbformat": 4,
  "vscode": {
   "interpreter": {
    "hash": "ffc2c986650f75bb84df5ef0f5794d173c138677d61245fd2c4ff2debf2f2371"
   }
  }
 },
 "nbformat": 4,
 "nbformat_minor": 2
}
