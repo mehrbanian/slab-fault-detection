{
 "cells": [
  {
   "cell_type": "code",
   "execution_count": 1,
   "metadata": {},
   "outputs": [],
   "source": [
    "import pandas as pd\n",
    "import numpy as np\n",
    "import matplotlib.pyplot as plt\n",
    "import matplotlib.ticker as mticker\n",
    "pd.options.mode.chained_assignment = None\n",
    "import warnings\n",
    "warnings.filterwarnings('ignore')"
   ]
  },
  {
   "attachments": {},
   "cell_type": "markdown",
   "metadata": {},
   "source": [
    "<h3>\n",
    "Reading data\n",
    "</h3>\n",
    "<p>\n",
    "Reading our data using pandas library with read_csv and read_excel functions.\n",
    "</p>\n",
    "<p>\n",
    "Since some of our data files(LF, EAF & CCM) are big we read it in independent cells in case if an error occurs it doesn't force us to read all of them again.\n",
    "</p>"
   ]
  },
  {
   "cell_type": "code",
   "execution_count": 2,
   "metadata": {},
   "outputs": [],
   "source": [
    "slab_original = pd.read_csv('data/slab.csv', sep=\";\")\n",
    "defect_original = pd.read_excel('data/defect.xlsx')\n",
    "heat_original = pd.read_excel('data/heat.xlsx')\n",
    "process_original = pd.read_csv('data/process.csv', sep=\";\")"
   ]
  },
  {
   "cell_type": "code",
   "execution_count": 4,
   "metadata": {},
   "outputs": [],
   "source": [
    "LF_original = pd.read_excel('data/LF.xlsx')"
   ]
  },
  {
   "cell_type": "code",
   "execution_count": 5,
   "metadata": {},
   "outputs": [],
   "source": [
    "EAF_original = pd.read_excel('data/eaf.xlsx')"
   ]
  },
  {
   "cell_type": "code",
   "execution_count": 6,
   "metadata": {},
   "outputs": [],
   "source": [
    "CCM_original = pd.read_excel('data/ccm.xlsx')"
   ]
  },
  {
   "attachments": {},
   "cell_type": "markdown",
   "metadata": {},
   "source": [
    "<p>\n",
    "Since we'll manipulate these dataframes re-reading the original in case of an error or mistake takes lots of time. So we make a copy of them and work with copies. If an error occurs we simply just re-run the cell below:\n",
    "</p>"
   ]
  },
  {
   "cell_type": "code",
   "execution_count": 7,
   "metadata": {},
   "outputs": [],
   "source": [
    "slab = slab_original\n",
    "defect = defect_original\n",
    "heat = heat_original\n",
    "process = process_original \n",
    "CCM = CCM_original\n",
    "EAF = EAF_original\n",
    "LF = LF_original"
   ]
  },
  {
   "attachments": {},
   "cell_type": "markdown",
   "metadata": {},
   "source": [
    "<h3>\n",
    "Finding classes\n",
    "</h3>\n",
    "<p>\n",
    "Since we'll solve this problem as a classification problem we need to find classes for slabs in our raw data. The defect tables which indicates the errors related to each slab can help us to label our data.\n",
    "</p>\n",
    "<p>\n",
    "We figured using COD_CATG_DEF_ASDEF attribute to faulty slabs is not enough since a slab might have more than 1 error category at the same time but different ITMDF_COD_ITM_ITMDF. So we chose the pair of COD_CATG_DEF_ASDEF & ITMDF_COD_ITM_ITMDF as our fault labels.\n",
    "</p>\n",
    "<p>\n",
    "Since there a large number of classes, we only select ones which cover more than 1% of faulty slabs to remove classes that cover an exteremly small number of samples in compare with tottal number of samples.\n",
    "</p>\n",
    "<p>\n",
    "You can manipulate this coverage limit by chaning the <i>min_coverage</i> variable in cell below.\n",
    "</p>"
   ]
  },
  {
   "cell_type": "code",
   "execution_count": 8,
   "metadata": {},
   "outputs": [
    {
     "name": "stdout",
     "output_type": "stream",
     "text": [
      "There are a total of 113 different classes.\n"
     ]
    }
   ],
   "source": [
    "slab_defect_merged = pd.merge(slab, defect, how=\"left\", left_on='PRODUCT_ID', right_on='PRODT_PRODUCT_ID')\n",
    "slab_groups = slab_defect_merged.groupby(['ITMDF_COD_ITM_ITMDF','COD_CATG_DEF_ASDEF']).size().reset_index()\n",
    "slab_groups = slab_groups.rename(columns={0: \"SAMPLES_NO\"})\n",
    "sum_all = np.sum(slab_groups[\"SAMPLES_NO\"])\n",
    "slab_groups[\"COVERAGE_PERC\"] = np.round(((slab_groups[\"SAMPLES_NO\"] * 100) / sum_all), 2)\n",
    "print(f\"There are a total of {len(slab_groups)} different classes.\")"
   ]
  },
  {
   "attachments": {},
   "cell_type": "markdown",
   "metadata": {},
   "source": [
    "<p>\n",
    "It is shown in the figure of next cell that many classes only cover a small number of faults.\n",
    "</p>"
   ]
  },
  {
   "cell_type": "code",
   "execution_count": 9,
   "metadata": {},
   "outputs": [
    {
     "data": {
      "image/png": "[encoded data removed]",
      "text/plain": [
       "<Figure size 600x500 with 1 Axes>"
      ]
     },
     "metadata": {},
     "output_type": "display_data"
    }
   ],
   "source": [
    "faults = slab_defect_merged[\"ITMDF_COD_ITM_ITMDF\"] + \"/\" + slab_defect_merged[\"COD_CATG_DEF_ASDEF\"]\n",
    "faults = faults.astype(str)\n",
    "names = pd.factorize(faults.unique(), na_sentinel=None)\n",
    "fig, ax = plt.subplots(figsize=(6, 5))\n",
    "ax.hist(np.array(faults), bins=names[1])\n",
    "# ax.set_xticklabels(names[0], rotation=90, rotation_mode=\"anchor\", ha=\"right\", fontsize=5)\n",
    "ax.xaxis.set_major_locator(mticker.FixedLocator(names[0]))\n",
    "ax.xaxis.set_major_formatter(mticker.FixedFormatter(names[0]))\n",
    "ax.tick_params(axis='x', labelsize=5, rotation=90)\n",
    "ax.tick_params(axis='y', labelsize=8)\n",
    "plt.axis('tight')\n",
    "fig.tight_layout()\n",
    "plt.show() "
   ]
  },
  {
   "cell_type": "code",
   "execution_count": 10,
   "metadata": {},
   "outputs": [
    {
     "name": "stdout",
     "output_type": "stream",
     "text": [
      "    ITMDF_COD_ITM_ITMDF COD_CATG_DEF_ASDEF  SAMPLES_NO  COVERAGE_PERC\n",
      "9       TEC/DEFECT/1002     HOT INSPECTION        4894           1.32\n",
      "12      TEC/DEFECT/1005     HOT INSPECTION        4450           1.20\n",
      "35        TEC/DEFECT/48    COLD INSPECTION        4493           1.21\n",
      "36        TEC/DEFECT/49    COLD INSPECTION       13177           3.55\n",
      "47       TEC/DEFECT/900   CAST ABNORMALITY      137405          36.99\n",
      "59       TEC/DEFECT/920   CAST ABNORMALITY       85702          23.07\n",
      "61       TEC/DEFECT/922   CAST ABNORMALITY        4773           1.28\n",
      "62       TEC/DEFECT/923   CAST ABNORMALITY        4750           1.28\n",
      "63       TEC/DEFECT/924   CAST ABNORMALITY        4767           1.28\n",
      "64       TEC/DEFECT/925   CAST ABNORMALITY       23266           6.26\n",
      "65       TEC/DEFECT/926   CAST ABNORMALITY       42929          11.56\n",
      "106      TEC/DEFECT/988     HOT INSPECTION        9198           2.48\n",
      "107      TEC/DEFECT/989     HOT INSPECTION        5276           1.42\n",
      "13 claases above covers 92.9% of faulty slabs\n"
     ]
    }
   ],
   "source": [
    "min_coverage = 1\n",
    "filtered_by_coverage = slab_groups.loc[slab_groups[\"COVERAGE_PERC\"] > min_coverage]\n",
    "print(filtered_by_coverage)\n",
    "coverage = np.sum(filtered_by_coverage[\"COVERAGE_PERC\"])\n",
    "print(f\"{len(filtered_by_coverage)} claases above covers {np.round(coverage, 2)}% of faulty slabs\")"
   ]
  },
  {
   "attachments": {},
   "cell_type": "markdown",
   "metadata": {},
   "source": [
    "<h3>\n",
    "Selecting samples\n",
    "</h3>\n",
    "<p>\n",
    "Since the number of our samples is already very large and it's eventually will get bigger later when we join them with other tables(dataframes), It's better to choose an smaller number of samples from each class that we chose above.\n",
    "</p>\n",
    "<p>\n",
    "There is a number of slabs which doesn't have any corresponding records in defect table we label them as perfect slabs and choose samples from this class too.\n",
    "</p>\n",
    "<p>\n",
    "We choose 1000 samples from classes which cover more than 10% of slab faults and for the rest we choose [100 * Coverage_pertentage] number of slabs. This way the balance between the number of samples from each class is also observed. If We choose too much from a class later in classification it may cause the model to predict most of the samples to that class.\n",
    "</p>"
   ]
  },
  {
   "cell_type": "code",
   "execution_count": 12,
   "metadata": {},
   "outputs": [
    {
     "name": "stdout",
     "output_type": "stream",
     "text": [
      "The total number of classes including perfect slabs is now: 14\n"
     ]
    }
   ],
   "source": [
    "\n",
    "df_0 = slab_defect_merged[slab_defect_merged['COD_CATG_DEF_ASDEF'].isnull()]\n",
    "df_0.insert(0, \"LABEL\", 0)\n",
    "df_0 = df_0.sample(250)\n",
    "dfs = [df_0]\n",
    "index_counter = 1\n",
    "for i, row in (filtered_by_coverage.iterrows()):\n",
    "    temp = slab_defect_merged[(slab_defect_merged['ITMDF_COD_ITM_ITMDF'] == row['ITMDF_COD_ITM_ITMDF']) &\\\n",
    "                (slab_defect_merged['COD_CATG_DEF_ASDEF'] == row['COD_CATG_DEF_ASDEF'])]\n",
    "    temp.insert(0, \"LABEL\", index_counter)\n",
    "    sample_size = int(row['COVERAGE_PERC'] * 100) if (row['COVERAGE_PERC'] < 10) else 1000\n",
    "    dfs.append(temp.sample(sample_size))\n",
    "    index_counter += 1\n",
    "\n",
    "print(f\"The total number of classes including perfect slabs is now: {len(dfs)}\")"
   ]
  },
  {
   "attachments": {},
   "cell_type": "markdown",
   "metadata": {},
   "source": [
    "<h3>Cleaning dataframes</h3>\n",
    "<p>\n",
    "Before joining slabs with other tables, we drop some attributes that we deemed uselss for varoius reasons like including too much nan values & etc from dataframes. We also removed the records which include nan values.\n",
    "</p>"
   ]
  },
  {
   "cell_type": "code",
   "execution_count": 13,
   "metadata": {},
   "outputs": [],
   "source": [
    "# removing VAL_ITM_A_PRITM (too many nans)\n",
    "CCM = CCM.drop('VAL_ITM_A_PRITM', axis=1)\n",
    "EAF = EAF.drop('VAL_ITM_A_PRITM', axis=1)\n",
    "LF = LF.drop('VAL_ITM_A_PRITM', axis=1)\n",
    "LF = LF.dropna()\n",
    "EAF = EAF.dropna()\n",
    "CCM = CCM.dropna()"
   ]
  },
  {
   "attachments": {},
   "cell_type": "markdown",
   "metadata": {},
   "source": [
    "<p>\n",
    "There are attributes in the dataframes resulted from joining slabs and defect dataframes which is not going to be usefull (like IDs & some information codes). These attributes are also removed from our samples.\n",
    "</p>"
   ]
  },
  {
   "cell_type": "code",
   "execution_count": 14,
   "metadata": {},
   "outputs": [],
   "source": [
    "samples = pd.concat(dfs)\n",
    "samples = samples.drop('PRODT_PRODUCT_ID_y', axis=1)\n",
    "samples = samples.drop('PROD_STATUS_DEFECT_ID', axis=1)\n",
    "samples = samples.drop('ASITM_AREA_STRUC_ITEM_ID', axis=1)\n",
    "samples = samples.drop('ITMDF_COD_ITM_ITMDF', axis=1)\n",
    "slabs = samples.drop('COD_CATG_DEF_ASDEF', axis=1)"
   ]
  },
  {
   "cell_type": "code",
   "execution_count": 15,
   "metadata": {},
   "outputs": [],
   "source": [
    "slabs = slabs.dropna()\n",
    "heat = heat.dropna()\n",
    "process = process.dropna()"
   ]
  },
  {
   "attachments": {},
   "cell_type": "markdown",
   "metadata": {},
   "source": [
    "<h3>Merging dataframes</h3>\n",
    "<p>\n",
    "We merge our dataframes using a left outer join. Since process has 1..n relationship CCM, LF & AEF entities we join them seperatly and concat them with each other.\n",
    "</p>"
   ]
  },
  {
   "cell_type": "code",
   "execution_count": 16,
   "metadata": {},
   "outputs": [],
   "source": [
    "slabs_heat_joined = pd.merge(slabs, heat, how=\"left\", left_on='PRODT_PRODUCT_ID_x', right_on='PRODUCT_ID')\n",
    "samples = slabs_heat_joined.dropna()"
   ]
  },
  {
   "cell_type": "code",
   "execution_count": 17,
   "metadata": {},
   "outputs": [],
   "source": [
    "samples_process_joined = pd.merge(samples, process, how=\"left\", left_on='PRODT_PRODUCT_ID_x', right_on='PRODT_PRODUCT_ID')\n",
    "samples_process_joined = samples_process_joined[samples_process_joined['PRODT_PRODUCT_ID_x'].notna()]"
   ]
  },
  {
   "cell_type": "code",
   "execution_count": 18,
   "metadata": {},
   "outputs": [],
   "source": [
    "ccm_process = pd.merge(samples_process_joined, CCM, how=\"left\", left_on='PROCESS_RESULT_ID', right_on='PCRSL_PROCESS_RESULT_ID')\n",
    "lf_process = pd.merge(samples_process_joined, LF, how=\"left\", left_on='PROCESS_RESULT_ID', right_on='PCRSL_PROCESS_RESULT_ID')\n",
    "eaf_process = pd.merge(samples_process_joined, EAF, how=\"left\", left_on='PROCESS_RESULT_ID', right_on='PCRSL_PROCESS_RESULT_ID')"
   ]
  },
  {
   "cell_type": "code",
   "execution_count": 19,
   "metadata": {},
   "outputs": [],
   "source": [
    "all_data_joined = pd.concat([ccm_process, lf_process, eaf_process])"
   ]
  },
  {
   "attachments": {},
   "cell_type": "markdown",
   "metadata": {},
   "source": [
    "<h3>Selecting attributes</h3>\n",
    "<p>\n",
    "Many attributes is now unneccary like IDs or some of the dates. We choose the main attributes which gives us usefull information.\n",
    "</p>"
   ]
  },
  {
   "cell_type": "code",
   "execution_count": 20,
   "metadata": {},
   "outputs": [],
   "source": [
    "df = all_data_joined[['COD_ID_PRODT_x', 'DAT_PRODT_x', 'PCDEF_PROCESS_DEFINITION_ID', 'DATE_START', 'DATE_END', 'SHIFT', 'TEAM',\\\n",
    "    'ITMDF_COD_ITM_ITMDF', 'VAL_ITM_N_PRITM', 'LADEL', 'TUNDISH', 'SHELL', 'LABEL']]"
   ]
  },
  {
   "attachments": {},
   "cell_type": "markdown",
   "metadata": {},
   "source": [
    "<h3>\n",
    "Digitizing data\n",
    "</h3>\n",
    "<p>\n",
    "In the next sections we are going to digitize some features in our dataset, like dates, descriptive codes and etc.\n",
    "</p>\n",
    "<p>\n",
    "First we are going to digitize some categorical features that their current form are as strings. To do such task we wrote <i>digitize_catg_feature</i> function which converts string type category values to integers.\n",
    "</p>"
   ]
  },
  {
   "cell_type": "code",
   "execution_count": 21,
   "metadata": {},
   "outputs": [],
   "source": [
    "def digitize_catg_feature(col_name, df):\n",
    "    ladels = pd.factorize(df[col_name].unique(), na_sentinel=None)\n",
    "    ladels_replacement = {}\n",
    "    for i in range(len(ladels[0])): ladels_replacement[ladels[1][i]] = ladels[0][i]\n",
    "    df[col_name].replace(ladels_replacement, inplace=True)\n",
    "    return df\n",
    "\n",
    "df_cp = df\n",
    "df_cp = digitize_catg_feature(\"LADEL\", df_cp)\n",
    "df_cp = digitize_catg_feature(\"TUNDISH\", df_cp)\n",
    "df_cp = digitize_catg_feature(\"SHELL\", df_cp)\n",
    "df_cp = digitize_catg_feature(\"ITMDF_COD_ITM_ITMDF\", df_cp)\n",
    "df_cp = digitize_catg_feature(\"SHIFT\", df_cp)\n",
    "df_cp = digitize_catg_feature(\"TEAM\", df_cp)"
   ]
  },
  {
   "attachments": {},
   "cell_type": "markdown",
   "metadata": {},
   "source": [
    "<h4>Digitzing dates</h4>\n",
    "<p>\n",
    "Since the current format of dates in dataset are strings first we have change their type to datetime. Before converting them to datetime we need to take care of some persian chars in date features by replacing \"ص\" with \"AM\" & \"م\" with \"PM\" then converting them to datetime.\n",
    "</p>\n",
    "<p>\n",
    "Since a datetime feature will be unusable later and we only need numeric features we only used the \"hour\" of each date as our feature (DAT_PRODT). We assumed that faults might occur more in specific hour of day.\n",
    "</p>"
   ]
  },
  {
   "cell_type": "code",
   "execution_count": 22,
   "metadata": {},
   "outputs": [],
   "source": [
    "df_cp = df_cp[df_cp['PCDEF_PROCESS_DEFINITION_ID'].notna()]\n",
    "df_cp[\"DAT_PRODT_x\"] = (df_cp[\"DAT_PRODT_x\"].str.replace(' ص', \"AM\"))\n",
    "df_cp[\"DAT_PRODT_x\"] = (df_cp[\"DAT_PRODT_x\"].str.replace(' م', \"PM\"))\n",
    "df_cp[\"DAT_PRODT_x\"] = pd.to_datetime(df_cp[\"DAT_PRODT_x\"], infer_datetime_format=True)\n",
    "df_cp[\"DAT_PRODT\"] = df_cp[\"DAT_PRODT_x\"].dt.hour\n",
    "df_cp = df_cp.drop('DAT_PRODT_x', axis=1)"
   ]
  },
  {
   "attachments": {},
   "cell_type": "markdown",
   "metadata": {},
   "source": [
    "<p>\n",
    "We have two more date features: DATE_END & DATE_END, which indicates the time a process for slab creation started and ended in order. first we take care of same issues we mentioned above and convert them to datetime format.\n",
    "</p>"
   ]
  },
  {
   "cell_type": "code",
   "execution_count": 23,
   "metadata": {},
   "outputs": [],
   "source": [
    "df_cp[\"DATE_START\"] = (df_cp[\"DATE_START\"].str.replace(' م', \"PM\"))\n",
    "df_cp[\"DATE_END\"] = (df_cp[\"DATE_END\"].str.replace(' م', \"PM\"))\n",
    "df_cp[\"DATE_START\"] = (df_cp[\"DATE_START\"].str.replace(' ص', \"AM\"))\n",
    "df_cp[\"DATE_END\"] = (df_cp[\"DATE_END\"].str.replace(' ص', \"AM\"))\n",
    "df_cp[\"DATE_START\"] = pd.to_datetime(df_cp[\"DATE_START\"], infer_datetime_format=True)\n",
    "df_cp[\"DATE_END\"] = pd.to_datetime(df_cp[\"DATE_END\"], infer_datetime_format=True)"
   ]
  },
  {
   "attachments": {},
   "cell_type": "markdown",
   "metadata": {},
   "source": [
    "To makes these two features useful we computed their difference in seconds and save it as a new feature named PROCESS_DURATION. which indicate to total amount of time in seconds that a corresponding process to a slab took place."
   ]
  },
  {
   "cell_type": "code",
   "execution_count": 24,
   "metadata": {},
   "outputs": [],
   "source": [
    "\n",
    "df_cp[\"PROCESS_DURATION\"] = ((df_cp[\"DATE_END\"] - df_cp[\"DATE_START\"]).dt.total_seconds())\n",
    "df_cp = df_cp.drop('DATE_END', axis=1)\n",
    "df_cp = df_cp.drop('DATE_START', axis=1)"
   ]
  },
  {
   "cell_type": "code",
   "execution_count": 25,
   "metadata": {},
   "outputs": [],
   "source": [
    "df_cp.insert(len(df_cp.columns)-1, 'LABEL', df_cp.pop('LABEL'))"
   ]
  },
  {
   "attachments": {},
   "cell_type": "markdown",
   "metadata": {},
   "source": [
    "<h4>Conclusion</h4>\n",
    "<p>\n",
    "In this part of project we made our dataset by labeling slabs, selecing samples from them, joining with other dataframes to get other features of this dataset and digitizing some of these features.\n",
    "</p>"
   ]
  },
  {
   "cell_type": "code",
   "execution_count": 26,
   "metadata": {},
   "outputs": [],
   "source": [
    "df_cp.to_csv('datasets/ds13.csv', index=False)"
   ]
  }
 ],
 "metadata": {
  "kernelspec": {
   "display_name": "base",
   "language": "python",
   "name": "python3"
  },
  "language_info": {
   "codemirror_mode": {
    "name": "ipython",
    "version": 3
   },
   "file_extension": ".py",
   "mimetype": "text/x-python",
   "name": "python",
   "nbconvert_exporter": "python",
   "pygments_lexer": "ipython3",
   "version": "3.9.15 (main, Nov 24 2022, 14:39:17) [MSC v.1916 64 bit (AMD64)]"
  },
  "orig_nbformat": 4,
  "vscode": {
   "interpreter": {
    "hash": "ffc2c986650f75bb84df5ef0f5794d173c138677d61245fd2c4ff2debf2f2371"
   }
  }
 },
 "nbformat": 4,
 "nbformat_minor": 2
}
